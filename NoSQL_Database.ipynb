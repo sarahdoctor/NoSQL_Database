{
 "cells": [
  {
   "cell_type": "markdown",
   "id": "9aa25b20-91fc-4d27-b562-cd6b11390b2f",
   "metadata": {},
   "source": [
    "##  NoSQL Database :: MongoDB"
   ]
  },
  {
   "cell_type": "code",
   "execution_count": 4,
   "id": "8df3dd26-f724-4cc0-98a6-f81326bc8f5c",
   "metadata": {},
   "outputs": [],
   "source": [
    "import pandas as pd"
   ]
  },
  {
   "cell_type": "code",
   "execution_count": 2,
   "id": "23da3c62-02ac-4f8f-bede-5f5379b3c78b",
   "metadata": {},
   "outputs": [],
   "source": [
    "from pymongo import MongoClient\n",
    "client = MongoClient('localhost',27017) ## or MongoClient(\"localhost:27017\")\n",
    "db = client.apan5400"
   ]
  },
  {
   "cell_type": "markdown",
   "id": "f6d6ff44-e2f9-4d42-90d5-a9fdc979d643",
   "metadata": {},
   "source": [
    "#### Read CSV File"
   ]
  },
  {
   "cell_type": "code",
   "execution_count": 5,
   "id": "cd9829c1-3e2c-4259-af10-76fe397438d6",
   "metadata": {},
   "outputs": [],
   "source": [
    "df = pd.read_csv(\"companies.csv\")"
   ]
  },
  {
   "cell_type": "markdown",
   "id": "484a6b0f-4bc2-4446-a991-571a3c65179e",
   "metadata": {},
   "source": [
    "#### Convert DataFrame to dictionary format"
   ]
  },
  {
   "cell_type": "code",
   "execution_count": 7,
   "id": "c0721123-536b-4008-8789-f0a545ab3e32",
   "metadata": {},
   "outputs": [],
   "source": [
    "records = df.to_dict(\"records\")"
   ]
  },
  {
   "cell_type": "markdown",
   "id": "57fadc24-37e9-46fb-85df-cd609a3195c4",
   "metadata": {},
   "source": [
    "#### Insert records into MongoDB"
   ]
  },
  {
   "cell_type": "code",
   "execution_count": 8,
   "id": "a947dfa5-99ad-4d11-b22c-ce18527c88f8",
   "metadata": {},
   "outputs": [
    {
     "data": {
      "text/plain": [
       "InsertManyResult([ObjectId('65f65c8537df8ee976fb44ec'), ObjectId('65f65c8537df8ee976fb44ed'), ObjectId('65f65c8537df8ee976fb44ee'), ObjectId('65f65c8537df8ee976fb44ef'), ObjectId('65f65c8537df8ee976fb44f0'), ObjectId('65f65c8537df8ee976fb44f1'), ObjectId('65f65c8537df8ee976fb44f2'), ObjectId('65f65c8537df8ee976fb44f3'), ObjectId('65f65c8537df8ee976fb44f4'), ObjectId('65f65c8537df8ee976fb44f5'), ObjectId('65f65c8537df8ee976fb44f6'), ObjectId('65f65c8537df8ee976fb44f7'), ObjectId('65f65c8537df8ee976fb44f8'), ObjectId('65f65c8537df8ee976fb44f9'), ObjectId('65f65c8537df8ee976fb44fa')], acknowledged=True)"
      ]
     },
     "execution_count": 8,
     "metadata": {},
     "output_type": "execute_result"
    }
   ],
   "source": [
    "db.companies.insert_many(records)"
   ]
  },
  {
   "cell_type": "markdown",
   "id": "e8e41300-68f9-48cd-8882-6badb63e901d",
   "metadata": {},
   "source": [
    "## 1) Companies Established in the Last 25 Years in Descending Order of Revenue"
   ]
  },
  {
   "cell_type": "code",
   "execution_count": 27,
   "id": "26e0f402-ef73-4c0f-bf97-7598022d75f7",
   "metadata": {},
   "outputs": [
    {
     "name": "stdout",
     "output_type": "stream",
     "text": [
      "Alibaba Group, Revenue: 134.57 billion USD\n",
      "Tesla, Revenue: 81.46 billion USD\n"
     ]
    }
   ],
   "source": [
    "recent_companies = db.companies.find({\"founded\": {\"$gte\": 1999}}).sort(\"revenue\", -1) # cutoff year (2024 - 25 = 1999)\n",
    "\n",
    "for company in recent_companies:\n",
    "    print(f\"{company['company']}, Revenue: {company['revenue']} billion USD\")"
   ]
  },
  {
   "cell_type": "markdown",
   "id": "62cd3367-b2cd-421f-9d84-b9a0dbdec7d7",
   "metadata": {},
   "source": [
    "## 2) Total of Annual Revenues of Companies Headquartered in Asia"
   ]
  },
  {
   "cell_type": "code",
   "execution_count": 38,
   "id": "9676f704-fb54-432f-aa06-89d0c331f0ca",
   "metadata": {},
   "outputs": [
    {
     "name": "stdout",
     "output_type": "stream",
     "text": [
      "Total Revenue: 1699.54 billion USD\n"
     ]
    }
   ],
   "source": [
    "asian_company_revenue = db.companies.aggregate([\n",
    "    {\n",
    "        \"$match\": {\n",
    "            \"country\": {\"$in\": [\"China\", \"South Korea\", \"Japan\", \"Saudi Arabia\"]}\n",
    "        }\n",
    "    },\n",
    "    {\n",
    "        \"$group\": {\n",
    "            \"_id\": None,\n",
    "            \"total_revenue\": {\"$sum\": \"$revenue\"}\n",
    "        }\n",
    "    }\n",
    "])\n",
    "\n",
    "for result in asian_company_revenue:\n",
    "    print(f\"Total Revenue: {result['total_revenue']} billion USD\")"
   ]
  },
  {
   "cell_type": "markdown",
   "id": "c881e1a5-1994-4aff-80ea-7d429ddacd28",
   "metadata": {},
   "source": [
    "## 3) Country of the Leading Car and Truck Manufacturer"
   ]
  },
  {
   "cell_type": "code",
   "execution_count": 36,
   "id": "81e301aa-fcd2-4eb6-80fc-43f6a1b684ba",
   "metadata": {},
   "outputs": [
    {
     "name": "stdout",
     "output_type": "stream",
     "text": [
      "Germany\n"
     ]
    }
   ],
   "source": [
    "leading_car = db.companies.find_one({\n",
    "    \"description\": {\n",
    "        \"$regex\": \"leading car and truck manufacturer\",\n",
    "        \"$options\": \"i\"  # Case-insensitive search\n",
    "    }\n",
    "})\n",
    "\n",
    "print(leading_car[\"country\"])"
   ]
  },
  {
   "cell_type": "markdown",
   "id": "c1817f47-be36-4085-9bc5-e2e7c890a2d0",
   "metadata": {},
   "source": [
    "## 4) Company Established After 1970 with the Smallest Number of Employees"
   ]
  },
  {
   "cell_type": "code",
   "execution_count": 30,
   "id": "720509da-9d00-4ea5-8cb0-ba16812dbb45",
   "metadata": {},
   "outputs": [
    {
     "name": "stdout",
     "output_type": "stream",
     "text": [
      "Tesla, Number of Employees: 127855\n"
     ]
    }
   ],
   "source": [
    "smallest_company = db.companies.find({\"founded\": {\"$gt\": 1970}}).sort(\"employees\", 1).limit(1)\n",
    "\n",
    "for company in smallest_company:\n",
    "    print(f\"{company['company']}, Number of Employees: {company['employees']}\")"
   ]
  },
  {
   "cell_type": "markdown",
   "id": "9f66a3a7-9a3c-4b30-b3c9-2531f2d28b20",
   "metadata": {},
   "source": [
    "## 5) Annual Revenues and Founding Years of Automotive Companies"
   ]
  },
  {
   "cell_type": "code",
   "execution_count": 31,
   "id": "e4920763-96cf-457a-b4ed-883c3fe5c0b4",
   "metadata": {},
   "outputs": [
    {
     "name": "stdout",
     "output_type": "stream",
     "text": [
      "Mercedes-Benz Group, Revenue: 153.95 billion USD, Founded: 1926\n",
      "Toyota Motor, Revenue: 267.02 billion USD, Founded: 1937\n"
     ]
    }
   ],
   "source": [
    "automotive_companies = db.companies.find({\"description\": {\"$regex\": \"automotive\", \"$options\": \"i\"}}, {\"company\": 1, \"revenue\": 1, \"founded\": 1})\n",
    "\n",
    "for company in automotive_companies:\n",
    "    print(f\"{company['company']}, Revenue: {company['revenue']} billion USD, Founded: {company['founded']}\")"
   ]
  }
 ],
 "metadata": {
  "kernelspec": {
   "display_name": "Python 3",
   "language": "python",
   "name": "python3"
  },
  "language_info": {
   "codemirror_mode": {
    "name": "ipython",
    "version": 3
   },
   "file_extension": ".py",
   "mimetype": "text/x-python",
   "name": "python",
   "nbconvert_exporter": "python",
   "pygments_lexer": "ipython3",
   "version": "3.8.8"
  }
 },
 "nbformat": 4,
 "nbformat_minor": 5
}
